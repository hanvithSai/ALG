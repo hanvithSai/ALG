{
 "cells": [
  {
   "cell_type": "raw",
   "id": "d3b47a3b",
   "metadata": {
    "height": 30
   },
   "source": [
    "Project ALG"
   ]
  },
  {
   "cell_type": "code",
   "execution_count": 1,
   "id": "6a832c58",
   "metadata": {
    "height": 30
   },
   "outputs": [
    {
     "name": "stdout",
     "output_type": "stream",
     "text": [
      "Defaulting to user installation because normal site-packages is not writeable\n",
      "Looking in links: /tmp/tmpyw28irox\n",
      "Requirement already satisfied: setuptools in /usr/local/lib/python3.9/site-packages (58.1.0)\n",
      "Requirement already satisfied: pip in /home/jovyan/.local/lib/python3.9/site-packages (23.0.1)\n"
     ]
    }
   ],
   "source": [
    "!python -m ensurepip --upgrade # install pip on jupyter lab"
   ]
  },
  {
   "cell_type": "code",
   "execution_count": 2,
   "id": "20ca5f4a",
   "metadata": {
    "height": 30
   },
   "outputs": [
    {
     "name": "stdout",
     "output_type": "stream",
     "text": [
      "Defaulting to user installation because normal site-packages is not writeable\n",
      "Requirement already satisfied: gradio in /home/jovyan/.local/lib/python3.9/site-packages (4.44.1)\n",
      "Requirement already satisfied: httpx>=0.24.1 in /home/jovyan/.local/lib/python3.9/site-packages (from gradio) (0.27.2)\n",
      "Requirement already satisfied: importlib-resources<7.0,>=1.3 in /home/jovyan/.local/lib/python3.9/site-packages (from gradio) (6.4.5)\n",
      "Requirement already satisfied: aiofiles<24.0,>=22.0 in /home/jovyan/.local/lib/python3.9/site-packages (from gradio) (23.2.1)\n",
      "Requirement already satisfied: pydantic>=2.0 in /home/jovyan/.local/lib/python3.9/site-packages (from gradio) (2.9.2)\n",
      "Requirement already satisfied: matplotlib~=3.0 in /home/jovyan/.local/lib/python3.9/site-packages (from gradio) (3.9.2)\n",
      "Requirement already satisfied: ruff>=0.2.2 in /home/jovyan/.local/lib/python3.9/site-packages (from gradio) (0.6.9)\n",
      "Requirement already satisfied: numpy<3.0,>=1.0 in /usr/local/lib/python3.9/site-packages (from gradio) (1.24.3)\n",
      "Requirement already satisfied: python-multipart>=0.0.9 in /home/jovyan/.local/lib/python3.9/site-packages (from gradio) (0.0.12)\n",
      "Requirement already satisfied: typing-extensions~=4.0 in /usr/local/lib/python3.9/site-packages (from gradio) (4.11.0)\n",
      "Requirement already satisfied: ffmpy in /home/jovyan/.local/lib/python3.9/site-packages (from gradio) (0.4.0)\n",
      "Requirement already satisfied: uvicorn>=0.14.0 in /home/jovyan/.local/lib/python3.9/site-packages (from gradio) (0.31.0)\n",
      "Requirement already satisfied: markupsafe~=2.0 in /usr/local/lib/python3.9/site-packages (from gradio) (2.1.5)\n",
      "Requirement already satisfied: packaging in /usr/local/lib/python3.9/site-packages (from gradio) (24.0)\n",
      "Requirement already satisfied: pandas<3.0,>=1.0 in /home/jovyan/.local/lib/python3.9/site-packages (from gradio) (2.2.3)\n",
      "Requirement already satisfied: pydub in /home/jovyan/.local/lib/python3.9/site-packages (from gradio) (0.25.1)\n",
      "Requirement already satisfied: semantic-version~=2.0 in /home/jovyan/.local/lib/python3.9/site-packages (from gradio) (2.10.0)\n",
      "Requirement already satisfied: huggingface-hub>=0.19.3 in /home/jovyan/.local/lib/python3.9/site-packages (from gradio) (0.25.1)\n",
      "Requirement already satisfied: jinja2<4.0 in /usr/local/lib/python3.9/site-packages (from gradio) (3.1.4)\n",
      "Requirement already satisfied: orjson~=3.0 in /home/jovyan/.local/lib/python3.9/site-packages (from gradio) (3.10.7)\n",
      "Requirement already satisfied: pyyaml<7.0,>=5.0 in /usr/local/lib/python3.9/site-packages (from gradio) (6.0)\n",
      "Requirement already satisfied: urllib3~=2.0 in /home/jovyan/.local/lib/python3.9/site-packages (from gradio) (2.2.3)\n",
      "Requirement already satisfied: gradio-client==1.3.0 in /home/jovyan/.local/lib/python3.9/site-packages (from gradio) (1.3.0)\n",
      "Requirement already satisfied: anyio<5.0,>=3.0 in /usr/local/lib/python3.9/site-packages (from gradio) (3.6.2)\n",
      "Requirement already satisfied: tomlkit==0.12.0 in /home/jovyan/.local/lib/python3.9/site-packages (from gradio) (0.12.0)\n",
      "Requirement already satisfied: fastapi<1.0 in /home/jovyan/.local/lib/python3.9/site-packages (from gradio) (0.115.0)\n",
      "Requirement already satisfied: typer<1.0,>=0.12 in /home/jovyan/.local/lib/python3.9/site-packages (from gradio) (0.12.5)\n",
      "Requirement already satisfied: pillow<11.0,>=8.0 in /usr/local/lib/python3.9/site-packages (from gradio) (9.5.0)\n",
      "Requirement already satisfied: fsspec in /home/jovyan/.local/lib/python3.9/site-packages (from gradio-client==1.3.0->gradio) (2024.9.0)\n",
      "Requirement already satisfied: websockets<13.0,>=10.0 in /home/jovyan/.local/lib/python3.9/site-packages (from gradio-client==1.3.0->gradio) (12.0)\n",
      "Requirement already satisfied: idna>=2.8 in /usr/local/lib/python3.9/site-packages (from anyio<5.0,>=3.0->gradio) (3.4)\n",
      "Requirement already satisfied: sniffio>=1.1 in /usr/local/lib/python3.9/site-packages (from anyio<5.0,>=3.0->gradio) (1.3.0)\n",
      "Requirement already satisfied: starlette<0.39.0,>=0.37.2 in /home/jovyan/.local/lib/python3.9/site-packages (from fastapi<1.0->gradio) (0.38.6)\n",
      "Requirement already satisfied: certifi in /usr/local/lib/python3.9/site-packages (from httpx>=0.24.1->gradio) (2022.12.7)\n",
      "Requirement already satisfied: httpcore==1.* in /home/jovyan/.local/lib/python3.9/site-packages (from httpx>=0.24.1->gradio) (1.0.6)\n",
      "Requirement already satisfied: h11<0.15,>=0.13 in /home/jovyan/.local/lib/python3.9/site-packages (from httpcore==1.*->httpx>=0.24.1->gradio) (0.14.0)\n",
      "Requirement already satisfied: tqdm>=4.42.1 in /usr/local/lib/python3.9/site-packages (from huggingface-hub>=0.19.3->gradio) (4.65.0)\n",
      "Requirement already satisfied: requests in /home/jovyan/.local/lib/python3.9/site-packages (from huggingface-hub>=0.19.3->gradio) (2.32.3)\n",
      "Requirement already satisfied: filelock in /home/jovyan/.local/lib/python3.9/site-packages (from huggingface-hub>=0.19.3->gradio) (3.16.1)\n",
      "Requirement already satisfied: zipp>=3.1.0 in /usr/local/lib/python3.9/site-packages (from importlib-resources<7.0,>=1.3->gradio) (3.18.2)\n",
      "Requirement already satisfied: cycler>=0.10 in /home/jovyan/.local/lib/python3.9/site-packages (from matplotlib~=3.0->gradio) (0.12.1)\n",
      "Requirement already satisfied: contourpy>=1.0.1 in /home/jovyan/.local/lib/python3.9/site-packages (from matplotlib~=3.0->gradio) (1.3.0)\n",
      "Requirement already satisfied: kiwisolver>=1.3.1 in /home/jovyan/.local/lib/python3.9/site-packages (from matplotlib~=3.0->gradio) (1.4.7)\n",
      "Requirement already satisfied: fonttools>=4.22.0 in /home/jovyan/.local/lib/python3.9/site-packages (from matplotlib~=3.0->gradio) (4.54.1)\n",
      "Requirement already satisfied: pyparsing>=2.3.1 in /home/jovyan/.local/lib/python3.9/site-packages (from matplotlib~=3.0->gradio) (3.1.4)\n",
      "Requirement already satisfied: python-dateutil>=2.7 in /usr/local/lib/python3.9/site-packages (from matplotlib~=3.0->gradio) (2.9.0.post0)\n",
      "Requirement already satisfied: tzdata>=2022.7 in /home/jovyan/.local/lib/python3.9/site-packages (from pandas<3.0,>=1.0->gradio) (2024.2)\n",
      "Requirement already satisfied: pytz>=2020.1 in /home/jovyan/.local/lib/python3.9/site-packages (from pandas<3.0,>=1.0->gradio) (2024.2)\n",
      "Requirement already satisfied: pydantic-core==2.23.4 in /home/jovyan/.local/lib/python3.9/site-packages (from pydantic>=2.0->gradio) (2.23.4)\n",
      "Requirement already satisfied: annotated-types>=0.6.0 in /home/jovyan/.local/lib/python3.9/site-packages (from pydantic>=2.0->gradio) (0.7.0)\n",
      "Requirement already satisfied: rich>=10.11.0 in /home/jovyan/.local/lib/python3.9/site-packages (from typer<1.0,>=0.12->gradio) (13.9.2)\n",
      "Requirement already satisfied: shellingham>=1.3.0 in /home/jovyan/.local/lib/python3.9/site-packages (from typer<1.0,>=0.12->gradio) (1.5.4)\n",
      "Requirement already satisfied: click>=8.0.0 in /home/jovyan/.local/lib/python3.9/site-packages (from typer<1.0,>=0.12->gradio) (8.1.7)\n",
      "Requirement already satisfied: six>=1.5 in /usr/local/lib/python3.9/site-packages (from python-dateutil>=2.7->matplotlib~=3.0->gradio) (1.16.0)\n",
      "Requirement already satisfied: pygments<3.0.0,>=2.13.0 in /usr/local/lib/python3.9/site-packages (from rich>=10.11.0->typer<1.0,>=0.12->gradio) (2.18.0)\n",
      "Requirement already satisfied: markdown-it-py>=2.2.0 in /home/jovyan/.local/lib/python3.9/site-packages (from rich>=10.11.0->typer<1.0,>=0.12->gradio) (3.0.0)\n",
      "Requirement already satisfied: charset-normalizer<4,>=2 in /usr/local/lib/python3.9/site-packages (from requests->huggingface-hub>=0.19.3->gradio) (3.1.0)\n",
      "Requirement already satisfied: mdurl~=0.1 in /home/jovyan/.local/lib/python3.9/site-packages (from markdown-it-py>=2.2.0->rich>=10.11.0->typer<1.0,>=0.12->gradio) (0.1.2)\n",
      "\n",
      "\u001b[1m[\u001b[0m\u001b[34;49mnotice\u001b[0m\u001b[1;39;49m]\u001b[0m\u001b[39;49m A new release of pip is available: \u001b[0m\u001b[31;49m23.0.1\u001b[0m\u001b[39;49m -> \u001b[0m\u001b[32;49m24.2\u001b[0m\n",
      "\u001b[1m[\u001b[0m\u001b[34;49mnotice\u001b[0m\u001b[1;39;49m]\u001b[0m\u001b[39;49m To update, run: \u001b[0m\u001b[32;49mpython -m pip install --upgrade pip\u001b[0m\n",
      "Note: you may need to restart the kernel to use updated packages.\n"
     ]
    }
   ],
   "source": [
    "pip install gradio # install graio for UI"
   ]
  },
  {
   "cell_type": "code",
   "execution_count": 3,
   "id": "468451d1",
   "metadata": {
    "height": 1321
   },
   "outputs": [
    {
     "name": "stderr",
     "output_type": "stream",
     "text": [
      "/usr/local/lib/python3.9/site-packages/tqdm/auto.py:21: TqdmWarning: IProgress not found. Please update jupyter and ipywidgets. See https://ipywidgets.readthedocs.io/en/stable/user_install.html\n",
      "  from .autonotebook import tqdm as notebook_tqdm\n",
      "/home/jovyan/.local/lib/python3.9/site-packages/gradio/components/dropdown.py:188: UserWarning: The value passed into gr.Dropdown() is not in the list of choices. Please update the list of choices to include: Select a genre or set allow_custom_value=True.\n",
      "  warnings.warn(\n"
     ]
    },
    {
     "name": "stdout",
     "output_type": "stream",
     "text": [
      "Running on local URL:  http://127.0.0.1:7860\n",
      "Running on public URL: https://8890a2d8d0444906a6.gradio.live\n",
      "\n",
      "This share link expires in 72 hours. For free permanent hosting and GPU upgrades, run `gradio deploy` from Terminal to deploy to Spaces (https://huggingface.co/spaces)\n"
     ]
    },
    {
     "data": {
      "text/html": [
       "<div><iframe src=\"https://8890a2d8d0444906a6.gradio.live\" width=\"100%\" height=\"500\" allow=\"autoplay; camera; microphone; clipboard-read; clipboard-write;\" frameborder=\"0\" allowfullscreen></iframe></div>"
      ],
      "text/plain": [
       "<IPython.core.display.HTML object>"
      ]
     },
     "metadata": {},
     "output_type": "display_data"
    },
    {
     "data": {
      "text/plain": []
     },
     "execution_count": 3,
     "metadata": {},
     "output_type": "execute_result"
    }
   ],
   "source": [
    "import openai\n",
    "import os\n",
    "import gradio as gr\n",
    "from dotenv import load_dotenv, find_dotenv\n",
    "\n",
    "# Load environment variables\n",
    "_ = load_dotenv(find_dotenv())\n",
    "openai.api_key = os.getenv('OPENAI_API_KEY')\n",
    "\n",
    "# Function to generate lyrics based on description, genre, emotion, and languages\n",
    "def generate_lyrics(description, genre, emotion, languages, english_script):\n",
    "    output_lyrics = \"\"\n",
    "    \n",
    "    for language in languages:\n",
    "        # Create a prompt for each selected language, focusing on writing lyrics directly in that language\n",
    "        prompt = (\n",
    "            f\"Compose original song lyrics directly in {language}, based on the following scene or description:\\n{description}\\n\\n\"\n",
    "            f\"Ensure the lyrics follow a {genre} style, evoke the emotion of {emotion}, and have a melodic rhythm with proper rhyming. \"\n",
    "            f\"Make sure the lyrics are musically synchronized, and not just a translation, but original lyrics that make sense in {language}.\"\n",
    "            \"\\n\\nLyrics:\"\n",
    "        )\n",
    "        \n",
    "        # Create a chat completion for each language\n",
    "        chat_completion = openai.ChatCompletion.create(\n",
    "            model=\"gpt-3.5-turbo\",\n",
    "            messages=[{\"role\": \"user\", \"content\": prompt}],\n",
    "            max_tokens=3000,  # Adjust for response length\n",
    "            temperature=0.8  # Higher creativity for lyrical flow\n",
    "        )\n",
    "        \n",
    "        # Get the generated lyrics\n",
    "        lyrics = chat_completion.choices[0].message['content']\n",
    "        \n",
    "        # Append the language and its generated lyrics to the output\n",
    "        output_lyrics += f\"Language: {language}\\n{lyrics}\\n\\n\"\n",
    "        \n",
    "        # If the English script is requested and the language is not English\n",
    "        if english_script and language != \"English\":\n",
    "            english_script_prompt = (\n",
    "                f\"Now provide the above lyrics in {language} but written using the English script. \"\n",
    "                \"The text should maintain the original meaning while using English letters for representation.\"\n",
    "            )\n",
    "            \n",
    "            # Get the English transliteration\n",
    "            english_script_completion = openai.ChatCompletion.create(\n",
    "                model=\"gpt-3.5-turbo\",\n",
    "                messages=[{\"role\": \"user\", \"content\": english_script_prompt}],\n",
    "                max_tokens=300,\n",
    "                temperature=0.7\n",
    "            )\n",
    "            \n",
    "            # Get the English script version and append it\n",
    "            english_script_lyrics = english_script_completion.choices[0].message['content']\n",
    "            output_lyrics += f\"English Script for {language}:\\n{english_script_lyrics}\\n\\n\"\n",
    "\n",
    "    return output_lyrics\n",
    "\n",
    "# Gradio Interface with enhanced inputs\n",
    "demo_lyrics_generator = gr.Interface(\n",
    "    fn=generate_lyrics,\n",
    "    inputs=[\n",
    "        gr.Textbox(label=\"Song Description\", placeholder=\"Describe the scene or theme for the song...\"),\n",
    "        gr.Dropdown(choices=[\"Classical\", \"Pop\", \"Rock\", \"Hip-hop\", \"Jazz\", \"Country\"], label=\"Genre\", value=\"Select a genre\"),\n",
    "        gr.Textbox(label=\"Emotion\", placeholder=\"Enter the emotion (e.g., love, sadness, excitement)...\"),\n",
    "        gr.CheckboxGroup(choices=[\"English\", \"Telugu\", \"Hindi\", \"Tamil\", \"Kannada\", \"Malayalam\"], \n",
    "                         label=\"Languages\", value=[\"English\"]),\n",
    "        gr.Checkbox(label=\"Provide in English Script\", value=False)\n",
    "    ],\n",
    "    outputs=\"text\",\n",
    "    title=\"AI Lyrics Generator\",\n",
    "    description=\"Enter a description, genre, emotion, and select one or more languages to generate musically synchronized, rhyming lyrics. Optionally, provide the lyrics in the English script for non-English languages.\"\n",
    ")\n",
    "\n",
    "# Launch the interface with a public URL\n",
    "demo_lyrics_generator.launch(share=True)\n"
   ]
  },
  {
   "cell_type": "code",
   "execution_count": null,
   "id": "db607131",
   "metadata": {
    "height": 30
   },
   "outputs": [],
   "source": []
  }
 ],
 "metadata": {
  "kernelspec": {
   "display_name": "Python 3 (ipykernel)",
   "language": "python",
   "name": "python3"
  },
  "language_info": {
   "codemirror_mode": {
    "name": "ipython",
    "version": 3
   },
   "file_extension": ".py",
   "mimetype": "text/x-python",
   "name": "python",
   "nbconvert_exporter": "python",
   "pygments_lexer": "ipython3",
   "version": "3.9.19"
  }
 },
 "nbformat": 4,
 "nbformat_minor": 5
}
