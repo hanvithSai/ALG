{
 "cells": [
  {
   "cell_type": "code",
   "execution_count": 1,
   "id": "dcb555a8",
   "metadata": {
    "height": 30
   },
   "outputs": [
    {
     "name": "stdout",
     "output_type": "stream",
     "text": [
      "Defaulting to user installation because normal site-packages is not writeable\n",
      "Looking in links: /tmp/tmp0xpcy3xs\n",
      "Requirement already satisfied: setuptools in /usr/local/lib/python3.9/site-packages (58.1.0)\n",
      "Requirement already satisfied: pip in /home/jovyan/.local/lib/python3.9/site-packages (24.2)\n"
     ]
    }
   ],
   "source": [
    "!python -m ensurepip --upgrade # install pip on jupyter lab"
   ]
  },
  {
   "cell_type": "code",
   "execution_count": 2,
   "id": "6a39f932",
   "metadata": {
    "height": 30
   },
   "outputs": [
    {
     "name": "stdout",
     "output_type": "stream",
     "text": [
      "Defaulting to user installation because normal site-packages is not writeable\n",
      "Requirement already satisfied: gradio in /home/jovyan/.local/lib/python3.9/site-packages (4.44.1)\n",
      "Requirement already satisfied: aiofiles<24.0,>=22.0 in /home/jovyan/.local/lib/python3.9/site-packages (from gradio) (23.2.1)\n",
      "Requirement already satisfied: anyio<5.0,>=3.0 in /usr/local/lib/python3.9/site-packages (from gradio) (3.6.2)\n",
      "Requirement already satisfied: fastapi<1.0 in /home/jovyan/.local/lib/python3.9/site-packages (from gradio) (0.115.2)\n",
      "Requirement already satisfied: ffmpy in /home/jovyan/.local/lib/python3.9/site-packages (from gradio) (0.4.0)\n",
      "Requirement already satisfied: gradio-client==1.3.0 in /home/jovyan/.local/lib/python3.9/site-packages (from gradio) (1.3.0)\n",
      "Requirement already satisfied: httpx>=0.24.1 in /home/jovyan/.local/lib/python3.9/site-packages (from gradio) (0.27.2)\n",
      "Requirement already satisfied: huggingface-hub>=0.19.3 in /home/jovyan/.local/lib/python3.9/site-packages (from gradio) (0.25.2)\n",
      "Requirement already satisfied: importlib-resources<7.0,>=1.3 in /home/jovyan/.local/lib/python3.9/site-packages (from gradio) (6.4.5)\n",
      "Requirement already satisfied: jinja2<4.0 in /usr/local/lib/python3.9/site-packages (from gradio) (3.1.4)\n",
      "Requirement already satisfied: markupsafe~=2.0 in /usr/local/lib/python3.9/site-packages (from gradio) (2.1.5)\n",
      "Requirement already satisfied: matplotlib~=3.0 in /home/jovyan/.local/lib/python3.9/site-packages (from gradio) (3.9.2)\n",
      "Requirement already satisfied: numpy<3.0,>=1.0 in /usr/local/lib/python3.9/site-packages (from gradio) (1.24.3)\n",
      "Requirement already satisfied: orjson~=3.0 in /home/jovyan/.local/lib/python3.9/site-packages (from gradio) (3.10.7)\n",
      "Requirement already satisfied: packaging in /usr/local/lib/python3.9/site-packages (from gradio) (24.0)\n",
      "Requirement already satisfied: pandas<3.0,>=1.0 in /home/jovyan/.local/lib/python3.9/site-packages (from gradio) (2.2.3)\n",
      "Requirement already satisfied: pillow<11.0,>=8.0 in /usr/local/lib/python3.9/site-packages (from gradio) (9.5.0)\n",
      "Requirement already satisfied: pydantic>=2.0 in /home/jovyan/.local/lib/python3.9/site-packages (from gradio) (2.9.2)\n",
      "Requirement already satisfied: pydub in /home/jovyan/.local/lib/python3.9/site-packages (from gradio) (0.25.1)\n",
      "Requirement already satisfied: python-multipart>=0.0.9 in /home/jovyan/.local/lib/python3.9/site-packages (from gradio) (0.0.12)\n",
      "Requirement already satisfied: pyyaml<7.0,>=5.0 in /usr/local/lib/python3.9/site-packages (from gradio) (6.0)\n",
      "Requirement already satisfied: ruff>=0.2.2 in /home/jovyan/.local/lib/python3.9/site-packages (from gradio) (0.6.9)\n",
      "Requirement already satisfied: semantic-version~=2.0 in /home/jovyan/.local/lib/python3.9/site-packages (from gradio) (2.10.0)\n",
      "Requirement already satisfied: tomlkit==0.12.0 in /home/jovyan/.local/lib/python3.9/site-packages (from gradio) (0.12.0)\n",
      "Requirement already satisfied: typer<1.0,>=0.12 in /home/jovyan/.local/lib/python3.9/site-packages (from gradio) (0.12.5)\n",
      "Requirement already satisfied: typing-extensions~=4.0 in /usr/local/lib/python3.9/site-packages (from gradio) (4.11.0)\n",
      "Requirement already satisfied: urllib3~=2.0 in /home/jovyan/.local/lib/python3.9/site-packages (from gradio) (2.2.3)\n",
      "Requirement already satisfied: uvicorn>=0.14.0 in /home/jovyan/.local/lib/python3.9/site-packages (from gradio) (0.31.1)\n",
      "Requirement already satisfied: fsspec in /home/jovyan/.local/lib/python3.9/site-packages (from gradio-client==1.3.0->gradio) (2024.9.0)\n",
      "Requirement already satisfied: websockets<13.0,>=10.0 in /home/jovyan/.local/lib/python3.9/site-packages (from gradio-client==1.3.0->gradio) (12.0)\n",
      "Requirement already satisfied: idna>=2.8 in /usr/local/lib/python3.9/site-packages (from anyio<5.0,>=3.0->gradio) (3.4)\n",
      "Requirement already satisfied: sniffio>=1.1 in /usr/local/lib/python3.9/site-packages (from anyio<5.0,>=3.0->gradio) (1.3.0)\n",
      "Requirement already satisfied: starlette<0.41.0,>=0.37.2 in /home/jovyan/.local/lib/python3.9/site-packages (from fastapi<1.0->gradio) (0.39.2)\n",
      "Requirement already satisfied: certifi in /usr/local/lib/python3.9/site-packages (from httpx>=0.24.1->gradio) (2022.12.7)\n",
      "Requirement already satisfied: httpcore==1.* in /home/jovyan/.local/lib/python3.9/site-packages (from httpx>=0.24.1->gradio) (1.0.6)\n",
      "Requirement already satisfied: h11<0.15,>=0.13 in /home/jovyan/.local/lib/python3.9/site-packages (from httpcore==1.*->httpx>=0.24.1->gradio) (0.14.0)\n",
      "Requirement already satisfied: filelock in /home/jovyan/.local/lib/python3.9/site-packages (from huggingface-hub>=0.19.3->gradio) (3.16.1)\n",
      "Requirement already satisfied: requests in /home/jovyan/.local/lib/python3.9/site-packages (from huggingface-hub>=0.19.3->gradio) (2.32.3)\n",
      "Requirement already satisfied: tqdm>=4.42.1 in /usr/local/lib/python3.9/site-packages (from huggingface-hub>=0.19.3->gradio) (4.65.0)\n",
      "Requirement already satisfied: zipp>=3.1.0 in /usr/local/lib/python3.9/site-packages (from importlib-resources<7.0,>=1.3->gradio) (3.18.2)\n",
      "Requirement already satisfied: contourpy>=1.0.1 in /home/jovyan/.local/lib/python3.9/site-packages (from matplotlib~=3.0->gradio) (1.3.0)\n",
      "Requirement already satisfied: cycler>=0.10 in /home/jovyan/.local/lib/python3.9/site-packages (from matplotlib~=3.0->gradio) (0.12.1)\n",
      "Requirement already satisfied: fonttools>=4.22.0 in /home/jovyan/.local/lib/python3.9/site-packages (from matplotlib~=3.0->gradio) (4.54.1)\n",
      "Requirement already satisfied: kiwisolver>=1.3.1 in /home/jovyan/.local/lib/python3.9/site-packages (from matplotlib~=3.0->gradio) (1.4.7)\n",
      "Requirement already satisfied: pyparsing>=2.3.1 in /home/jovyan/.local/lib/python3.9/site-packages (from matplotlib~=3.0->gradio) (3.2.0)\n",
      "Requirement already satisfied: python-dateutil>=2.7 in /usr/local/lib/python3.9/site-packages (from matplotlib~=3.0->gradio) (2.9.0.post0)\n",
      "Requirement already satisfied: pytz>=2020.1 in /home/jovyan/.local/lib/python3.9/site-packages (from pandas<3.0,>=1.0->gradio) (2024.2)\n",
      "Requirement already satisfied: tzdata>=2022.7 in /home/jovyan/.local/lib/python3.9/site-packages (from pandas<3.0,>=1.0->gradio) (2024.2)\n",
      "Requirement already satisfied: annotated-types>=0.6.0 in /home/jovyan/.local/lib/python3.9/site-packages (from pydantic>=2.0->gradio) (0.7.0)\n",
      "Requirement already satisfied: pydantic-core==2.23.4 in /home/jovyan/.local/lib/python3.9/site-packages (from pydantic>=2.0->gradio) (2.23.4)\n",
      "Requirement already satisfied: click>=8.0.0 in /home/jovyan/.local/lib/python3.9/site-packages (from typer<1.0,>=0.12->gradio) (8.1.7)\n",
      "Requirement already satisfied: shellingham>=1.3.0 in /home/jovyan/.local/lib/python3.9/site-packages (from typer<1.0,>=0.12->gradio) (1.5.4)\n",
      "Requirement already satisfied: rich>=10.11.0 in /home/jovyan/.local/lib/python3.9/site-packages (from typer<1.0,>=0.12->gradio) (13.9.2)\n",
      "Requirement already satisfied: six>=1.5 in /usr/local/lib/python3.9/site-packages (from python-dateutil>=2.7->matplotlib~=3.0->gradio) (1.16.0)\n",
      "Requirement already satisfied: markdown-it-py>=2.2.0 in /home/jovyan/.local/lib/python3.9/site-packages (from rich>=10.11.0->typer<1.0,>=0.12->gradio) (3.0.0)\n",
      "Requirement already satisfied: pygments<3.0.0,>=2.13.0 in /usr/local/lib/python3.9/site-packages (from rich>=10.11.0->typer<1.0,>=0.12->gradio) (2.18.0)\n",
      "Requirement already satisfied: charset-normalizer<4,>=2 in /usr/local/lib/python3.9/site-packages (from requests->huggingface-hub>=0.19.3->gradio) (3.1.0)\n",
      "Requirement already satisfied: mdurl~=0.1 in /home/jovyan/.local/lib/python3.9/site-packages (from markdown-it-py>=2.2.0->rich>=10.11.0->typer<1.0,>=0.12->gradio) (0.1.2)\n",
      "Note: you may need to restart the kernel to use updated packages.\n"
     ]
    }
   ],
   "source": [
    "pip install gradio # install graio for UI"
   ]
  },
  {
   "cell_type": "code",
   "execution_count": 3,
   "id": "6cc7cf9f",
   "metadata": {
    "height": 30
   },
   "outputs": [
    {
     "name": "stdout",
     "output_type": "stream",
     "text": [
      "Defaulting to user installation because normal site-packages is not writeable\n",
      "Requirement already satisfied: SpeechRecognition in /home/jovyan/.local/lib/python3.9/site-packages (3.10.4)\n",
      "Requirement already satisfied: requests>=2.26.0 in /home/jovyan/.local/lib/python3.9/site-packages (from SpeechRecognition) (2.32.3)\n",
      "Requirement already satisfied: typing-extensions in /usr/local/lib/python3.9/site-packages (from SpeechRecognition) (4.11.0)\n",
      "Requirement already satisfied: charset-normalizer<4,>=2 in /usr/local/lib/python3.9/site-packages (from requests>=2.26.0->SpeechRecognition) (3.1.0)\n",
      "Requirement already satisfied: idna<4,>=2.5 in /usr/local/lib/python3.9/site-packages (from requests>=2.26.0->SpeechRecognition) (3.4)\n",
      "Requirement already satisfied: urllib3<3,>=1.21.1 in /home/jovyan/.local/lib/python3.9/site-packages (from requests>=2.26.0->SpeechRecognition) (2.2.3)\n",
      "Requirement already satisfied: certifi>=2017.4.17 in /usr/local/lib/python3.9/site-packages (from requests>=2.26.0->SpeechRecognition) (2022.12.7)\n",
      "Note: you may need to restart the kernel to use updated packages.\n"
     ]
    }
   ],
   "source": [
    "pip install SpeechRecognition"
   ]
  },
  {
   "cell_type": "code",
   "execution_count": 4,
   "id": "041e0dda",
   "metadata": {
    "height": 2392
   },
   "outputs": [
    {
     "name": "stderr",
     "output_type": "stream",
     "text": [
      "/home/jovyan/.local/lib/python3.9/site-packages/gradio/components/dropdown.py:188: UserWarning: The value passed into gr.Dropdown() is not in the list of choices. Please update the list of choices to include: Select a genre or set allow_custom_value=True.\n",
      "  warnings.warn(\n",
      "/home/jovyan/.local/lib/python3.9/site-packages/gradio/analytics.py:106: UserWarning: IMPORTANT: You are using gradio version 4.44.1, however version 5.0.1 is available, please upgrade. \n",
      "--------\n",
      "  warnings.warn(\n"
     ]
    },
    {
     "name": "stdout",
     "output_type": "stream",
     "text": [
      "Running on local URL:  http://127.0.0.1:7860\n",
      "Running on public URL: https://a5e6e8d297f877c931.gradio.live\n",
      "\n",
      "This share link expires in 72 hours. For free permanent hosting and GPU upgrades, run `gradio deploy` from Terminal to deploy to Spaces (https://huggingface.co/spaces)\n"
     ]
    },
    {
     "data": {
      "text/html": [
       "<div><iframe src=\"https://a5e6e8d297f877c931.gradio.live\" width=\"100%\" height=\"500\" allow=\"autoplay; camera; microphone; clipboard-read; clipboard-write;\" frameborder=\"0\" allowfullscreen></iframe></div>"
      ],
      "text/plain": [
       "<IPython.core.display.HTML object>"
      ]
     },
     "metadata": {},
     "output_type": "display_data"
    },
    {
     "data": {
      "text/plain": []
     },
     "execution_count": 4,
     "metadata": {},
     "output_type": "execute_result"
    },
    {
     "name": "stdout",
     "output_type": "stream",
     "text": [
      "Error in TTS API request: 404 <!DOCTYPE html PUBLIC \"-//W3C//DTD XHTML 1.0 Strict//EN\" \"http://www.w3.org/TR/xhtml1/DTD/xhtml1-strict.dtd\">\n",
      "<html xmlns=\"http://www.w3.org/1999/xhtml\">\n",
      "<head>\n",
      "<meta http-equiv=\"Content-Type\" content=\"text/html; charset=iso-8859-1\"/>\n",
      "<title>404 - File or directory not found.</title>\n",
      "<style type=\"text/css\">\n",
      "<!--\n",
      "body{margin:0;font-size:.7em;font-family:Verdana, Arial, Helvetica, sans-serif;background:#EEEEEE;}\n",
      "fieldset{padding:0 15px 10px 15px;} \n",
      "h1{font-size:2.4em;margin:0;color:#FFF;}\n",
      "h2{font-size:1.7em;margin:0;color:#CC0000;} \n",
      "h3{font-size:1.2em;margin:10px 0 0 0;color:#000000;} \n",
      "#header{width:96%;margin:0 0 0 0;padding:6px 2% 6px 2%;font-family:\"trebuchet MS\", Verdana, sans-serif;color:#FFF;\n",
      "background-color:#555555;}\n",
      "#content{margin:0 0 0 2%;position:relative;}\n",
      ".content-container{background:#FFF;width:96%;margin-top:8px;padding:10px;position:relative;}\n",
      "-->\n",
      "</style>\n",
      "</head>\n",
      "<body>\n",
      "<div id=\"header\"><h1>Server Error</h1></div>\n",
      "<div id=\"content\">\n",
      " <div class=\"content-container\"><fieldset>\n",
      "  <h2>404 - File or directory not found.</h2>\n",
      "  <h3>The resource you are looking for might have been removed, had its name changed, or is temporarily unavailable.</h3>\n",
      " </fieldset></div>\n",
      "</div>\n",
      "</body>\n",
      "</html>\n",
      "\n",
      "Error in TTS API request: 404 <!DOCTYPE html PUBLIC \"-//W3C//DTD XHTML 1.0 Strict//EN\" \"http://www.w3.org/TR/xhtml1/DTD/xhtml1-strict.dtd\">\n",
      "<html xmlns=\"http://www.w3.org/1999/xhtml\">\n",
      "<head>\n",
      "<meta http-equiv=\"Content-Type\" content=\"text/html; charset=iso-8859-1\"/>\n",
      "<title>404 - File or directory not found.</title>\n",
      "<style type=\"text/css\">\n",
      "<!--\n",
      "body{margin:0;font-size:.7em;font-family:Verdana, Arial, Helvetica, sans-serif;background:#EEEEEE;}\n",
      "fieldset{padding:0 15px 10px 15px;} \n",
      "h1{font-size:2.4em;margin:0;color:#FFF;}\n",
      "h2{font-size:1.7em;margin:0;color:#CC0000;} \n",
      "h3{font-size:1.2em;margin:10px 0 0 0;color:#000000;} \n",
      "#header{width:96%;margin:0 0 0 0;padding:6px 2% 6px 2%;font-family:\"trebuchet MS\", Verdana, sans-serif;color:#FFF;\n",
      "background-color:#555555;}\n",
      "#content{margin:0 0 0 2%;position:relative;}\n",
      ".content-container{background:#FFF;width:96%;margin-top:8px;padding:10px;position:relative;}\n",
      "-->\n",
      "</style>\n",
      "</head>\n",
      "<body>\n",
      "<div id=\"header\"><h1>Server Error</h1></div>\n",
      "<div id=\"content\">\n",
      " <div class=\"content-container\"><fieldset>\n",
      "  <h2>404 - File or directory not found.</h2>\n",
      "  <h3>The resource you are looking for might have been removed, had its name changed, or is temporarily unavailable.</h3>\n",
      " </fieldset></div>\n",
      "</div>\n",
      "</body>\n",
      "</html>\n",
      "\n"
     ]
    }
   ],
   "source": [
    "import openai\n",
    "import os\n",
    "import gradio as gr\n",
    "from dotenv import load_dotenv, find_dotenv\n",
    "import requests\n",
    "import speech_recognition as sr  # Speech recognition for live transcription\n",
    "\n",
    "# Load environment variables\n",
    "_ = load_dotenv(find_dotenv())\n",
    "openai.api_key = os.getenv('OPENAI_API_KEY')\n",
    "\n",
    "# Function to generate lyrics based on description, genre, emotion, and languages\n",
    "def generate_lyrics(description, genre, emotion, languages, english_script):\n",
    "    output_lyrics = \"\"\n",
    "    \n",
    "    for language in languages:\n",
    "        prompt = (\n",
    "            f\"Compose original song lyrics directly in {language}, based on the following scene or description:\\n{description}\\n\\n\"\n",
    "            f\"Ensure the lyrics follow a {genre} style, evoke the emotion of {emotion}, and have a melodic rhythm with proper rhyming. \"\n",
    "            f\"Make sure the lyrics are musically synchronized, and not just a translation, but original lyrics that make sense in {language}.\"\n",
    "            \"\\n\\nLyrics:\"\n",
    "        )\n",
    "        \n",
    "        chat_completion = openai.ChatCompletion.create(\n",
    "            model=\"gpt-3.5-turbo\",\n",
    "            messages=[{\"role\": \"user\", \"content\": prompt}],\n",
    "            max_tokens=3000,\n",
    "            temperature=0.8\n",
    "        )\n",
    "        \n",
    "        lyrics = chat_completion.choices[0].message['content']\n",
    "        output_lyrics += f\"Language: {language}\\n{lyrics}\\n\\n\"\n",
    "        \n",
    "        if english_script and language != \"English\":\n",
    "            english_script_prompt = (\n",
    "                f\"Now provide the above lyrics in {language} but written using the English script. \"\n",
    "                \"The text should maintain the original meaning while using English letters for representation.\"\n",
    "            )\n",
    "            english_script_completion = openai.ChatCompletion.create(\n",
    "                model=\"gpt-3.5-turbo\",\n",
    "                messages=[{\"role\": \"user\", \"content\": english_script_prompt}],\n",
    "                max_tokens=300,\n",
    "                temperature=0.7\n",
    "            )\n",
    "            english_script_lyrics = english_script_completion.choices[0].message['content']\n",
    "            output_lyrics += f\"English Script for {language}:\\n{english_script_lyrics}\\n\\n\"\n",
    "\n",
    "    return output_lyrics\n",
    "\n",
    "# Function to generate TTS from lyrics\n",
    "def generate_audio(lyrics, language_code):\n",
    "    api_key = \"YOUR_API_KEY\"  # Replace with your valid VoiceRSS API key\n",
    "    tts_endpoint = f\"https://api.voicerss.org/\"\n",
    "    params = {\n",
    "        \"key\": api_key,\n",
    "        \"hl\": language_code,\n",
    "        \"src\": lyrics,\n",
    "        \"r\": \"0\",  # Speech rate (0 is default, change if needed)\n",
    "        \"c\": \"wav\",  # Audio format (wav)\n",
    "        \"f\": \"16khz_16bit_stereo\"  # Audio quality\n",
    "    }\n",
    "\n",
    "    response = requests.get(tts_endpoint, params=params)\n",
    "    \n",
    "    # Check if the response was successful\n",
    "    if response.status_code == 200:\n",
    "        audio_file = \"generated_lyrics.wav\"\n",
    "        with open(audio_file, 'wb') as f:\n",
    "            f.write(response.content)\n",
    "        return audio_file\n",
    "    else:\n",
    "        print(\"Error in TTS API request:\", response.status_code, response.text)\n",
    "        return None\n",
    "\n",
    "\n",
    "# Function to handle real-time transcription\n",
    "def transcribe_audio(audio_file):\n",
    "    recognizer = sr.Recognizer()\n",
    "    with sr.AudioFile(audio_file) as source:\n",
    "        audio = recognizer.record(source)\n",
    "    try:\n",
    "        transcription = recognizer.recognize_google(audio)\n",
    "    except sr.UnknownValueError:\n",
    "        transcription = \"Unable to understand the audio.\"\n",
    "    except sr.RequestError:\n",
    "        transcription = \"Speech recognition service is unavailable.\"\n",
    "    return transcription\n",
    "\n",
    "# Function to switch between text or voice input\n",
    "def process_input(input_type, text_description, voice_description):\n",
    "    if input_type == \"Voice Input\":\n",
    "        return voice_description\n",
    "    return text_description\n",
    "\n",
    "# Gradio Interface with voice input, live transcription, and audio output\n",
    "def create_interface():\n",
    "    with gr.Blocks() as demo_lyrics_generator:\n",
    "        gr.Markdown(\"# AI Lyrics Generator with Text or Voice Input and Audio Output\")\n",
    "        \n",
    "        input_type = gr.Radio(choices=[\"Text Input\", \"Voice Input\"], label=\"Input Method\", value=\"Text Input\")\n",
    "\n",
    "        # Inputs for text and voice (mic) description\n",
    "        text_description = gr.Textbox(label=\"Song Description (Text)\", placeholder=\"Describe the scene or theme for the song...\")\n",
    "        voice_description = gr.Audio(label=\"Speak Your Song Description\", type=\"filepath\")\n",
    "        live_transcription = gr.Textbox(label=\"Live Transcript\", interactive=False, visible=True)\n",
    "\n",
    "        # Connect live transcription to microphone input\n",
    "        def update_transcription(audio_file):\n",
    "            transcription = transcribe_audio(audio_file)\n",
    "            return transcription\n",
    "\n",
    "        voice_description.change(fn=update_transcription, inputs=voice_description, outputs=live_transcription)\n",
    "\n",
    "        genre = gr.Dropdown(choices=[\"Classical\", \"Pop\", \"Rock\", \"Hip-hop\", \"Jazz\", \"Country\"], label=\"Genre\", value=\"Select a genre\")\n",
    "        emotion = gr.Textbox(label=\"Emotion\", placeholder=\"Enter the emotion (e.g., love, sadness, excitement)...\")\n",
    "        languages = gr.CheckboxGroup(choices=[\"English\", \"Telugu\", \"Hindi\", \"Tamil\", \"Kannada\", \"Malayalam\"], \n",
    "                                     label=\"Languages\", value=[\"English\"])\n",
    "        english_script = gr.Checkbox(label=\"Provide in English Script\", value=False)\n",
    "\n",
    "        # Output fields\n",
    "        lyrics_output = gr.Textbox(label=\"Generated Lyrics\", interactive=False)\n",
    "        audio_output = gr.Audio(label=\"Audio Output (Read Aloud)\", type=\"filepath\", interactive=False)\n",
    "        \n",
    "        def generate(input_type, text_description, live_transcription, genre, emotion, languages, english_script):\n",
    "            description = process_input(input_type, text_description, live_transcription)\n",
    "            lyrics = generate_lyrics(description, genre, emotion, languages, english_script)\n",
    "            audio_file = generate_audio(lyrics, \"en-us\")  # Adjust language code as needed\n",
    "            return lyrics, audio_file\n",
    "        \n",
    "        generate_button = gr.Button(\"Generate Lyrics & Audio\")\n",
    "        generate_button.click(fn=generate, \n",
    "                              inputs=[input_type, text_description, live_transcription, genre, emotion, languages, english_script], \n",
    "                              outputs=[lyrics_output, audio_output])\n",
    "        \n",
    "    return demo_lyrics_generator\n",
    "\n",
    "# Launch the interface with a public URL\n",
    "create_interface().launch(share=True)\n"
   ]
  },
  {
   "cell_type": "code",
   "execution_count": null,
   "id": "988bdbe7",
   "metadata": {
    "height": 30
   },
   "outputs": [],
   "source": []
  }
 ],
 "metadata": {
  "kernelspec": {
   "display_name": "Python 3 (ipykernel)",
   "language": "python",
   "name": "python3"
  },
  "language_info": {
   "codemirror_mode": {
    "name": "ipython",
    "version": 3
   },
   "file_extension": ".py",
   "mimetype": "text/x-python",
   "name": "python",
   "nbconvert_exporter": "python",
   "pygments_lexer": "ipython3",
   "version": "3.9.19"
  }
 },
 "nbformat": 4,
 "nbformat_minor": 5
}
