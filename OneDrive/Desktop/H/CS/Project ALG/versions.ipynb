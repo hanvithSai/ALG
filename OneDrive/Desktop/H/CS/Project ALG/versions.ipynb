{
 "cells": [
  {
   "cell_type": "markdown",
   "id": "832fd52a",
   "metadata": {
    "height": 30
   },
   "source": [
    "PROJECT ALG"
   ]
  },
  {
   "cell_type": "code",
   "execution_count": null,
   "id": "f915192f",
   "metadata": {
    "height": 30
   },
   "outputs": [],
   "source": [
    "!python -m ensurepip --upgrade # install pip on jupyter lab"
   ]
  },
  {
   "cell_type": "code",
   "execution_count": null,
   "id": "b6ce8546",
   "metadata": {
    "height": 30
   },
   "outputs": [],
   "source": [
    "pip install gradio # install graio for UI"
   ]
  },
  {
   "cell_type": "code",
   "execution_count": 1,
   "id": "751679ac",
   "metadata": {
    "height": 642
   },
   "outputs": [
    {
     "name": "stderr",
     "output_type": "stream",
     "text": [
      "/usr/local/lib/python3.9/site-packages/tqdm/auto.py:21: TqdmWarning: IProgress not found. Please update jupyter and ipywidgets. See https://ipywidgets.readthedocs.io/en/stable/user_install.html\n",
      "  from .autonotebook import tqdm as notebook_tqdm\n"
     ]
    },
    {
     "name": "stdout",
     "output_type": "stream",
     "text": [
      "Running on local URL:  http://127.0.0.1:7860\n",
      "Running on public URL: https://8d15b95de679405c14.gradio.live\n",
      "\n",
      "This share link expires in 72 hours. For free permanent hosting and GPU upgrades, run `gradio deploy` from Terminal to deploy to Spaces (https://huggingface.co/spaces)\n"
     ]
    },
    {
     "data": {
      "text/html": [
       "<div><iframe src=\"https://8d15b95de679405c14.gradio.live\" width=\"100%\" height=\"500\" allow=\"autoplay; camera; microphone; clipboard-read; clipboard-write;\" frameborder=\"0\" allowfullscreen></iframe></div>"
      ],
      "text/plain": [
       "<IPython.core.display.HTML object>"
      ]
     },
     "metadata": {},
     "output_type": "display_data"
    },
    {
     "data": {
      "text/plain": []
     },
     "execution_count": 1,
     "metadata": {},
     "output_type": "execute_result"
    }
   ],
   "source": [
    "import openai\n",
    "import os\n",
    "import gradio as gr\n",
    "from dotenv import load_dotenv, find_dotenv\n",
    "\n",
    "# Load environment variables\n",
    "_ = load_dotenv(find_dotenv())\n",
    "openai.api_key = os.getenv('OPENAI_API_KEY')\n",
    "\n",
    "# Function to generate lyrics based on a description\n",
    "def generate_lyrics(description):\n",
    "    # Create a prompt for lyrics generation\n",
    "    prompt = f\"Write a song lyrics based on the following scene or description:\\n{description}\\n\\nLyrics:\"\n",
    "    \n",
    "    # Create a chat completion\n",
    "    chat_completion = openai.ChatCompletion.create(\n",
    "        model=\"gpt-3.5-turbo\",\n",
    "        messages=[{\"role\": \"user\", \"content\": prompt}],\n",
    "        max_tokens=300,  # Adjust as needed for response length\n",
    "        temperature=0.7  # Adjust for creativity vs. accuracy\n",
    "    )\n",
    "    \n",
    "    # Return the generated lyrics\n",
    "    return chat_completion.choices[0].message['content']\n",
    "\n",
    "# Gradio Interface\n",
    "demo_lyrics_generator = gr.Interface(\n",
    "    fn=generate_lyrics,\n",
    "    inputs=gr.Textbox(label=\"Song Description\", placeholder=\"Describe the scene or theme for the song...\"),\n",
    "    outputs=\"text\",\n",
    "    title=\"Lyrics Generator\",\n",
    "    description=\"Enter a description to generate lyrics based on the scene or song theme.\"\n",
    ")\n",
    "\n",
    "# Launch the interface with a public URL\n",
    "demo_lyrics_generator.launch(share=True)\n"
   ]
  },
  {
   "cell_type": "code",
   "execution_count": 2,
   "id": "035f2910",
   "metadata": {
    "height": 837
   },
   "outputs": [
    {
     "name": "stdout",
     "output_type": "stream",
     "text": [
      "Running on local URL:  http://127.0.0.1:7861\n",
      "Running on public URL: https://e2023eb4eafe8e9ad8.gradio.live\n",
      "\n",
      "This share link expires in 72 hours. For free permanent hosting and GPU upgrades, run `gradio deploy` from Terminal to deploy to Spaces (https://huggingface.co/spaces)\n"
     ]
    },
    {
     "data": {
      "text/html": [
       "<div><iframe src=\"https://e2023eb4eafe8e9ad8.gradio.live\" width=\"100%\" height=\"500\" allow=\"autoplay; camera; microphone; clipboard-read; clipboard-write;\" frameborder=\"0\" allowfullscreen></iframe></div>"
      ],
      "text/plain": [
       "<IPython.core.display.HTML object>"
      ]
     },
     "metadata": {},
     "output_type": "display_data"
    },
    {
     "data": {
      "text/plain": []
     },
     "execution_count": 2,
     "metadata": {},
     "output_type": "execute_result"
    }
   ],
   "source": [
    "import openai\n",
    "import os\n",
    "import gradio as gr\n",
    "from dotenv import load_dotenv, find_dotenv\n",
    "\n",
    "# Load environment variables\n",
    "_ = load_dotenv(find_dotenv())\n",
    "openai.api_key = os.getenv('OPENAI_API_KEY')\n",
    "\n",
    "# Function to generate lyrics based on description, genre, emotion, and language\n",
    "def generate_lyrics(description, genre, emotion, language):\n",
    "    # Create a more structured prompt for musical synchronization, rhyming, and melody\n",
    "    prompt = (\n",
    "        f\"Write song lyrics in {language} based on the following scene or description:\\n{description}\\n\\n\"\n",
    "        f\"Make sure the lyrics follow a {genre} style, evoke the emotion of {emotion}, \"\n",
    "        f\"include a melodic rhythm, and have a rhyming structure.\\n\\n\"\n",
    "        \"Lyrics:\"\n",
    "    )\n",
    "\n",
    "    # Create a chat completion\n",
    "    chat_completion = openai.ChatCompletion.create(\n",
    "        model=\"gpt-3.5-turbo\",\n",
    "        messages=[{\"role\": \"user\", \"content\": prompt}],\n",
    "        max_tokens=300,  # Adjust for response length\n",
    "        temperature=0.8  # Higher creativity for lyrical flow\n",
    "    )\n",
    "\n",
    "    # Return the generated lyrics\n",
    "    return chat_completion.choices[0].message['content']\n",
    "\n",
    "# Gradio Interface with enhanced inputs\n",
    "demo_lyrics_generator = gr.Interface(\n",
    "    fn=generate_lyrics,\n",
    "    inputs=[\n",
    "        gr.Textbox(label=\"Song Description\", placeholder=\"Describe the scene or theme for the song...\"),\n",
    "        gr.Dropdown(choices=[\"Pop\", \"Rock\", \"Classical\", \"Hip-hop\", \"Jazz\", \"Country\"], label=\"Genre\", value=\"Pop\"),\n",
    "        gr.Textbox(label=\"Emotion\", placeholder=\"Enter the emotion (e.g., love, sadness, excitement)...\"),\n",
    "        gr.Dropdown(choices=[\"English\", \"Telugu\", \"Hindi\", \"Tamil\", \"Kannada\", \"Malayalam\"], label=\"Language\", value=\"English\")\n",
    "    ],\n",
    "    outputs=\"text\",\n",
    "    title=\"AI Lyrics Generator\",\n",
    "    description=\"Enter a description, genre, emotion, and language to generate musically synchronized, rhyming lyrics.\"\n",
    ")\n",
    "\n",
    "# Launch the interface with a public URL\n",
    "demo_lyrics_generator.launch(share=True)\n"
   ]
  },
  {
   "cell_type": "code",
   "execution_count": 4,
   "id": "a8af352e",
   "metadata": {
    "height": 659
   },
   "outputs": [
    {
     "name": "stdout",
     "output_type": "stream",
     "text": [
      "Running on local URL:  http://127.0.0.1:7862\n",
      "Running on public URL: https://6d6c3874200787eaa0.gradio.live\n",
      "\n",
      "This share link expires in 72 hours. For free permanent hosting and GPU upgrades, run `gradio deploy` from Terminal to deploy to Spaces (https://huggingface.co/spaces)\n"
     ]
    },
    {
     "data": {
      "text/html": [
       "<div><iframe src=\"https://6d6c3874200787eaa0.gradio.live\" width=\"100%\" height=\"500\" allow=\"autoplay; camera; microphone; clipboard-read; clipboard-write;\" frameborder=\"0\" allowfullscreen></iframe></div>"
      ],
      "text/plain": [
       "<IPython.core.display.HTML object>"
      ]
     },
     "metadata": {},
     "output_type": "display_data"
    },
    {
     "data": {
      "text/plain": []
     },
     "execution_count": 4,
     "metadata": {},
     "output_type": "execute_result"
    }
   ],
   "source": [
    "import openai\n",
    "import os\n",
    "import gradio as gr\n",
    "from dotenv import load_dotenv, find_dotenv\n",
    "\n",
    "# Load environment variables\n",
    "_ = load_dotenv(find_dotenv())\n",
    "openai.api_key = os.getenv('OPENAI_API_KEY')\n",
    "\n",
    "# Define a fixed context for the application\n",
    "fixed_context = \"You are a lyrics generator.\"\n",
    "\n",
    "# Function to generate lyrics based on a description\n",
    "def generate_lyrics(description):\n",
    "    prompt = f\"Description: {description}\\nGenerate song lyrics:\"\n",
    "    \n",
    "    chat_completion = openai.ChatCompletion.create(\n",
    "        model=\"gpt-3.5-turbo\",\n",
    "        messages=[{\"role\": \"user\", \"content\": prompt}],\n",
    "        max_tokens=150,\n",
    "        temperature=0.7\n",
    "    )\n",
    "    \n",
    "    return chat_completion.choices[0].message['content']\n",
    "\n",
    "# Gradio Interface\n",
    "demo_lyrics_generator = gr.Interface(\n",
    "    fn=generate_lyrics,\n",
    "    inputs=gr.Textbox(label=\"Song Description\", placeholder=\"Describe the scene or theme for the song...\"),\n",
    "    outputs=\"text\",\n",
    "    title=\"AI Lyrics Generator\",\n",
    "    description=\"Enter a description to generate song lyrics based on the scene.\",\n",
    "    theme=\"compact\"  # Keep this if your version supports it\n",
    ")\n",
    "\n",
    "# Launch the interface with a public URL\n",
    "demo_lyrics_generator.launch(share=True)\n"
   ]
  },
  {
   "cell_type": "code",
   "execution_count": 5,
   "id": "8d1bbd0d",
   "metadata": {
    "height": 1058
   },
   "outputs": [
    {
     "name": "stdout",
     "output_type": "stream",
     "text": [
      "Running on local URL:  http://127.0.0.1:7863\n",
      "Running on public URL: https://ab1d63dce3eca809cd.gradio.live\n",
      "\n",
      "This share link expires in 72 hours. For free permanent hosting and GPU upgrades, run `gradio deploy` from Terminal to deploy to Spaces (https://huggingface.co/spaces)\n"
     ]
    },
    {
     "data": {
      "text/html": [
       "<div><iframe src=\"https://ab1d63dce3eca809cd.gradio.live\" width=\"100%\" height=\"500\" allow=\"autoplay; camera; microphone; clipboard-read; clipboard-write;\" frameborder=\"0\" allowfullscreen></iframe></div>"
      ],
      "text/plain": [
       "<IPython.core.display.HTML object>"
      ]
     },
     "metadata": {},
     "output_type": "display_data"
    },
    {
     "data": {
      "text/plain": []
     },
     "execution_count": 5,
     "metadata": {},
     "output_type": "execute_result"
    }
   ],
   "source": [
    "import openai\n",
    "import os\n",
    "import gradio as gr\n",
    "from dotenv import load_dotenv, find_dotenv\n",
    "\n",
    "# Load environment variables\n",
    "_ = load_dotenv(find_dotenv())\n",
    "openai.api_key = os.getenv('OPENAI_API_KEY')\n",
    "\n",
    "# Function to generate lyrics based on description, genre, emotion, and languages\n",
    "def generate_lyrics(description, genre, emotion, languages, english_script):\n",
    "    # Prepare the languages as a comma-separated string\n",
    "    languages_str = \", \".join(languages)\n",
    "    \n",
    "    # Create a prompt for structured lyrics generation with multiple languages and optional English script\n",
    "    prompt = (\n",
    "        f\"Write song lyrics in {languages_str} based on the following scene or description:\\n{description}\\n\\n\"\n",
    "        f\"Make sure the lyrics follow a {genre} style, evoke the emotion of {emotion}, \"\n",
    "        f\"include a melodic rhythm, and have a rhyming structure.\\n\"\n",
    "    )\n",
    "    \n",
    "    # Add a note to generate lyrics in the English script if required\n",
    "    if english_script:\n",
    "        prompt += (\n",
    "            f\"Please provide the text in {languages_str} but written using the English script. The text should \"\n",
    "            f\"maintain the original {languages_str} meaning while using English letters for representation.\\n\\n\"\n",
    "        )\n",
    "\n",
    "    prompt += \"Lyrics:\"\n",
    "\n",
    "    # Create a chat completion\n",
    "    chat_completion = openai.ChatCompletion.create(\n",
    "        model=\"gpt-3.5-turbo\",\n",
    "        messages=[{\"role\": \"user\", \"content\": prompt}],\n",
    "        max_tokens=300,  # Adjust for response length\n",
    "        temperature=0.8  # Higher creativity for lyrical flow\n",
    "    )\n",
    "\n",
    "    # Return the generated lyrics\n",
    "    return chat_completion.choices[0].message['content']\n",
    "\n",
    "# Gradio Interface with enhanced inputs\n",
    "demo_lyrics_generator = gr.Interface(\n",
    "    fn=generate_lyrics,\n",
    "    inputs=[\n",
    "        gr.Textbox(label=\"Song Description\", placeholder=\"Describe the scene or theme for the song...\"),\n",
    "        gr.Dropdown(choices=[\"Pop\", \"Rock\", \"Classical\", \"Hip-hop\", \"Jazz\", \"Country\"], label=\"Genre\", value=\"Pop\"),\n",
    "        gr.Textbox(label=\"Emotion\", placeholder=\"Enter the emotion (e.g., love, sadness, excitement)...\"),\n",
    "        gr.CheckboxGroup(choices=[\"English\", \"Telugu\", \"Hindi\", \"Tamil\", \"Kannada\", \"Malayalam\"], \n",
    "                         label=\"Languages\", value=[\"English\"]),\n",
    "        gr.Checkbox(label=\"Provide in English Script\", value=False)\n",
    "    ],\n",
    "    outputs=\"text\",\n",
    "    title=\"AI Lyrics Generator\",\n",
    "    description=\"Enter a description, genre, emotion, and select one or more languages to generate musically synchronized, rhyming lyrics. Optionally, provide the lyrics in the English script while retaining the regional meaning.\"\n",
    ")\n",
    "\n",
    "# Launch the interface with a public URL\n",
    "demo_lyrics_generator.launch(share=True)\n"
   ]
  },
  {
   "cell_type": "code",
   "execution_count": 7,
   "id": "c7d365ef",
   "metadata": {
    "height": 1347
   },
   "outputs": [
    {
     "name": "stdout",
     "output_type": "stream",
     "text": [
      "Running on local URL:  http://127.0.0.1:7865\n",
      "Running on public URL: https://fc9a83d4b9e74cbe86.gradio.live\n",
      "\n",
      "This share link expires in 72 hours. For free permanent hosting and GPU upgrades, run `gradio deploy` from Terminal to deploy to Spaces (https://huggingface.co/spaces)\n"
     ]
    },
    {
     "data": {
      "text/html": [
       "<div><iframe src=\"https://fc9a83d4b9e74cbe86.gradio.live\" width=\"100%\" height=\"500\" allow=\"autoplay; camera; microphone; clipboard-read; clipboard-write;\" frameborder=\"0\" allowfullscreen></iframe></div>"
      ],
      "text/plain": [
       "<IPython.core.display.HTML object>"
      ]
     },
     "metadata": {},
     "output_type": "display_data"
    },
    {
     "data": {
      "text/plain": []
     },
     "execution_count": 7,
     "metadata": {},
     "output_type": "execute_result"
    }
   ],
   "source": [
    "import openai\n",
    "import os\n",
    "import gradio as gr\n",
    "from dotenv import load_dotenv, find_dotenv\n",
    "\n",
    "# Load environment variables\n",
    "_ = load_dotenv(find_dotenv())\n",
    "openai.api_key = os.getenv('OPENAI_API_KEY')\n",
    "\n",
    "# Function to generate lyrics based on description, genre, emotion, and languages\n",
    "def generate_lyrics(description, genre, emotion, languages, english_script):\n",
    "    output_lyrics = \"\"\n",
    "    \n",
    "    for language in languages:\n",
    "        # Create a prompt for each selected language\n",
    "        prompt = (\n",
    "            f\"Write song lyrics in {language} based on the following scene or description:\\n{description}\\n\\n\"\n",
    "            f\"Make sure the lyrics follow a {genre} style, evoke the emotion of {emotion}, \"\n",
    "            f\"include a melodic rhythm, and have a rhyming structure.\\n\\n\"\n",
    "            \"Lyrics:\"\n",
    "        )\n",
    "        \n",
    "        # Create a chat completion for each language\n",
    "        chat_completion = openai.ChatCompletion.create(\n",
    "            model=\"gpt-3.5-turbo\",\n",
    "            messages=[{\"role\": \"user\", \"content\": prompt}],\n",
    "            max_tokens=3000,  # Adjust for response length\n",
    "            temperature=0.8  # Higher creativity for lyrical flow\n",
    "        )\n",
    "        \n",
    "        # Get the generated lyrics\n",
    "        lyrics = chat_completion.choices[0].message['content']\n",
    "        \n",
    "        # Append the language and its generated lyrics to the output\n",
    "        output_lyrics += f\"Language: {language}\\n{lyrics}\\n\\n\"\n",
    "        \n",
    "        # If the English script is requested and the language is not English\n",
    "        if english_script and language != \"English\":\n",
    "            english_script_prompt = (\n",
    "                f\"Provide the following lyrics in {language} but written using the English script. \"\n",
    "                \"The text should maintain the original meaning while using English letters for representation:\\n\\n\"\n",
    "                f\"{lyrics}\"\n",
    "            )\n",
    "            \n",
    "            # Get the English transliteration\n",
    "            english_script_completion = openai.ChatCompletion.create(\n",
    "                model=\"gpt-3.5-turbo\",\n",
    "                messages=[{\"role\": \"user\", \"content\": english_script_prompt}],\n",
    "                max_tokens=300,\n",
    "                temperature=0.7\n",
    "            )\n",
    "            \n",
    "            # Get the English script version and append it\n",
    "            english_script_lyrics = english_script_completion.choices[0].message['content']\n",
    "            output_lyrics += f\"English Script for {language}:\\n{english_script_lyrics}\\n\\n\"\n",
    "\n",
    "    return output_lyrics\n",
    "\n",
    "# Gradio Interface with enhanced inputs\n",
    "demo_lyrics_generator = gr.Interface(\n",
    "    fn=generate_lyrics,\n",
    "    inputs=[\n",
    "        gr.Textbox(label=\"Song Description\", placeholder=\"Describe the scene or theme for the song...\"),\n",
    "        gr.Dropdown(choices=[\"Pop\", \"Rock\", \"Classical\", \"Hip-hop\", \"Jazz\", \"Country\"], label=\"Genre\", value=\"Pop\"),\n",
    "        gr.Textbox(label=\"Emotion\", placeholder=\"Enter the emotion (e.g., love, sadness, excitement)...\"),\n",
    "        gr.CheckboxGroup(choices=[\"English\", \"Telugu\", \"Hindi\", \"Tamil\", \"Kannada\", \"Malayalam\"], \n",
    "                         label=\"Languages\", value=[\"English\"]),\n",
    "        gr.Checkbox(label=\"Provide in English Script\", value=False)\n",
    "    ],\n",
    "    outputs=\"text\",\n",
    "    title=\"AI Lyrics Generator\",\n",
    "    description=\"Enter a description, genre, emotion, and select one or more languages to generate musically synchronized, rhyming lyrics. Optionally, provide the lyrics in the English script for non-English languages.\"\n",
    ")\n",
    "\n",
    "# Launch the interface with a public URL\n",
    "demo_lyrics_generator.launch(share=True)\n"
   ]
  }
 ],
 "metadata": {
  "kernelspec": {
   "display_name": "Python 3 (ipykernel)",
   "language": "python",
   "name": "python3"
  },
  "language_info": {
   "codemirror_mode": {
    "name": "ipython",
    "version": 3
   },
   "file_extension": ".py",
   "mimetype": "text/x-python",
   "name": "python",
   "nbconvert_exporter": "python",
   "pygments_lexer": "ipython3",
   "version": "3.9.19"
  }
 },
 "nbformat": 4,
 "nbformat_minor": 5
}
